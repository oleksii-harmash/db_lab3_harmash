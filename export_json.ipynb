{
 "cells": [
  {
   "cell_type": "code",
   "execution_count": 1,
   "id": "ac1d073d-91b7-40d5-932c-2f19a6b9a79a",
   "metadata": {},
   "outputs": [],
   "source": [
    "import csv\n",
    "import psycopg2"
   ]
  },
  {
   "cell_type": "code",
   "execution_count": 3,
   "id": "f09d10bd-7e8d-47de-8f3b-45774c80dc2f",
   "metadata": {},
   "outputs": [],
   "source": [
    "conn_data = ({\n",
    "    'USERNAME': 'postgres',\n",
    "    'DB_NAME': 'iowa_liquor_sales',\n",
    "    'PASSWORD': 'postgres',\n",
    "    'HOST': 'localhost',\n",
    "    'PORT': '5432'\n",
    "})\n",
    "\n",
    "data = {}"
   ]
  },
  {
   "cell_type": "code",
   "execution_count": null,
   "id": "d3a0dc64-42c7-44d1-8fce-97a87233b90f",
   "metadata": {},
   "outputs": [],
   "source": [
    "conn = psycopg2.connect(user=conn_data['USERNAME'], password=conn_data['PASSWORD'], dbname=conn_data['DB_NAME'], host=conn_data['HOST'], port=conn_data['PORT'])\n",
    "\n",
    "with conn:\n",
    "    cur = conn.cursor()\n",
    "    \n",
    "    for table in ('sale_new', 'details_new', 'store_new', 'store_location_new', 'description_new', 'vendor_new'):\n",
    "        cur.execute('SELECT * FROM ' + table)\n",
    "        rows = []\n",
    "        fields = [x[0] for x in cur.description]\n",
    "\n",
    "        for row in cur:\n",
    "            rows.append(dict(zip(fields, row)))\n",
    "\n",
    "        data[table] = rows\n",
    "\n",
    "with open('all_data.json', 'w') as outf:\n",
    "    json.dump(data, outf, default = str)"
   ]
  }
 ],
 "metadata": {
  "kernelspec": {
   "display_name": "Python 3 (ipykernel)",
   "language": "python",
   "name": "python3"
  },
  "language_info": {
   "codemirror_mode": {
    "name": "ipython",
    "version": 3
   },
   "file_extension": ".py",
   "mimetype": "text/x-python",
   "name": "python",
   "nbconvert_exporter": "python",
   "pygments_lexer": "ipython3",
   "version": "3.9.12"
  }
 },
 "nbformat": 4,
 "nbformat_minor": 5
}
