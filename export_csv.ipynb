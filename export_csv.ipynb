{
 "cells": [
  {
   "cell_type": "code",
   "execution_count": 1,
   "id": "25e8cfc6-06d4-4086-88e2-51cd5350d62e",
   "metadata": {},
   "outputs": [],
   "source": [
    "import csv\n",
    "import psycopg2"
   ]
  },
  {
   "cell_type": "code",
   "execution_count": 3,
   "id": "0ba6d7a7-2b1f-4b63-8664-ceef1e296033",
   "metadata": {},
   "outputs": [],
   "source": [
    "conn_data = ({\n",
    "    'USERNAME': 'postgres',\n",
    "    'DB_NAME': 'iowa_liquor_sales',\n",
    "    'PASSWORD': 'postgres',\n",
    "    'HOST': 'localhost',\n",
    "    'PORT': '5432'\n",
    "})\n",
    "\n",
    "OUTPUT_FILE_T = 'Harmash_DB_{}.csv'\n",
    "\n",
    "TABLES = [\n",
    "    'sale_new',\n",
    "    'details_new',\n",
    "    'store_new',\n",
    "    'store_location_new',\n",
    "    'description_new',\n",
    "    'vendor_new'\n",
    "]"
   ]
  },
  {
   "cell_type": "code",
   "execution_count": 4,
   "id": "11c60dc8-e4a1-4c81-bafd-dc53e046a639",
   "metadata": {},
   "outputs": [],
   "source": [
    "conn = psycopg2.connect(user=conn_data['USERNAME'], password=conn_data['PASSWORD'], dbname=conn_data['DB_NAME'], host=conn_data['HOST'], port=conn_data['PORT'])\n",
    "\n",
    "with conn:\n",
    "    cur = conn.cursor()\n",
    "\n",
    "    for table_name in TABLES:\n",
    "        cur.execute('SELECT * FROM ' + table_name)\n",
    "        fields = [x[0] for x in cur.description]\n",
    "        with open(OUTPUT_FILE_T.format(table_name), 'w') as outfile:\n",
    "            writer = csv.writer(outfile)\n",
    "            writer.writerow(fields)\n",
    "            for row in cur:\n",
    "                writer.writerow([str(x) for x in row])"
   ]
  }
 ],
 "metadata": {
  "kernelspec": {
   "display_name": "Python 3 (ipykernel)",
   "language": "python",
   "name": "python3"
  },
  "language_info": {
   "codemirror_mode": {
    "name": "ipython",
    "version": 3
   },
   "file_extension": ".py",
   "mimetype": "text/x-python",
   "name": "python",
   "nbconvert_exporter": "python",
   "pygments_lexer": "ipython3",
   "version": "3.9.12"
  }
 },
 "nbformat": 4,
 "nbformat_minor": 5
}
