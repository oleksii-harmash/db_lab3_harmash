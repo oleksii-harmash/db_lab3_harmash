{
 "cells": [
  {
   "cell_type": "code",
   "execution_count": 3,
   "id": "79875deb-c6e4-46af-a145-b7260f495f48",
   "metadata": {},
   "outputs": [],
   "source": [
    "import numpy as np\n",
    "import pandas as pd\n",
    "import psycopg2\n",
    "import matplotlib.pyplot as plt\n",
    "import seaborn as sns"
   ]
  },
  {
   "cell_type": "code",
   "execution_count": 4,
   "id": "06b164a3-1d63-4fb9-9932-5b9020e9a52f",
   "metadata": {},
   "outputs": [],
   "source": [
    "conn_data = ({\n",
    "    'USERNAME': 'postgres',\n",
    "    'DB_NAME': 'iowa_liquor_sales',\n",
    "    'PASSWORD': 'postgres',\n",
    "    'HOST': 'localhost',\n",
    "    'PORT': '5432'\n",
    "})"
   ]
  },
  {
   "cell_type": "code",
   "execution_count": 5,
   "id": "8950a876-e9fc-4e94-853b-2cf4fcb43ec2",
   "metadata": {},
   "outputs": [],
   "source": [
    "sale_new = '''\n",
    "CREATE TABLE sale_new(\n",
    "    invoice VARCHAR(30) PRIMARY KEY,\n",
    "    store_name VARCHAR(50) NOT NULL,\n",
    "    vendor_num INT NOT NULL,\n",
    "    sale_date DATE NOT NULL\n",
    ");\n",
    "'''"
   ]
  },
  {
   "cell_type": "code",
   "execution_count": 6,
   "id": "402cae0e-dd4d-4f26-8f05-5aebf4f7ad2c",
   "metadata": {},
   "outputs": [],
   "source": [
    "details_new = '''\n",
    "CREATE TABLE details_new(\n",
    "    invoice VARCHAR(50) PRIMARY KEY,\n",
    "    item_num INT NOT NULL,\n",
    "    quantity INT NOT NULL,\n",
    "    cost DECIMAL(10, 2) NOT NULL,\n",
    "    retail DECIMAL(10, 2) NOT NULL\n",
    ");\n",
    "'''"
   ]
  },
  {
   "cell_type": "code",
   "execution_count": 7,
   "id": "ca87a8df-947e-4b2b-95f1-ae080cc45f2f",
   "metadata": {},
   "outputs": [],
   "source": [
    "store_new = '''\n",
    "CREATE TABLE store_new(\n",
    "    store_name VARCHAR(50) PRIMARY KEY,\n",
    "    zip_code INT NOT NULL,\n",
    "    store_num INT NOT NULL,\n",
    "    gps TEXT NOT NULL\n",
    ");\n",
    "'''"
   ]
  },
  {
   "cell_type": "code",
   "execution_count": 8,
   "id": "a78d9b30-8531-4c5b-b539-9ba2d1851307",
   "metadata": {},
   "outputs": [],
   "source": [
    "store_location_new = '''\n",
    "CREATE TABLE store_location_new(\n",
    "    zip_code INT PRIMARY KEY,\n",
    "    city VARCHAR(50)\n",
    ");\n",
    "'''"
   ]
  },
  {
   "cell_type": "code",
   "execution_count": 9,
   "id": "36db4917-b888-458c-bc35-7d3868006b0f",
   "metadata": {},
   "outputs": [],
   "source": [
    "description_new = '''\n",
    "CREATE TABLE description_new(\n",
    "    item_num INT PRIMARY KEY,\n",
    "    item_desc VARCHAR(50) NOT NULL,\n",
    "    volume INT NOT NULL\n",
    ");\n",
    "'''"
   ]
  },
  {
   "cell_type": "code",
   "execution_count": 10,
   "id": "6087f946-c87a-4d5b-9cd2-4b7d9e61d491",
   "metadata": {},
   "outputs": [],
   "source": [
    "vendor_new = '''\n",
    "CREATE TABLE vendor_new(\n",
    "    vendor_num INT PRIMARY KEY,\n",
    "    vendor_name VARCHAR(50) NOT NULL\n",
    ");\n",
    "'''"
   ]
  },
  {
   "cell_type": "code",
   "execution_count": 11,
   "id": "292555dd-c23c-4c49-a2a2-41dee7c7db64",
   "metadata": {},
   "outputs": [],
   "source": [
    "init_relations = '''\n",
    "ALTER TABLE details ADD CONSTRAINT FK_details\n",
    "    FOREIGN KEY (invoice) REFERENCES sale(invoice);\n",
    "ALTER TABLE details ADD CONSTRAINT FK_item_num \n",
    "    FOREIGN KEY (item_num) REFERENCES description(item_num);\n",
    "\n",
    "ALTER TABLE sale ADD CONSTRAINT FK_store_name \n",
    "    FOREIGN KEY (store_name) REFERENCES store(store_name);\n",
    "ALTER TABLE sale ADD CONSTRAINT FK_vendor_num \n",
    "    FOREIGN KEY (vendor_num) REFERENCES vendor(vendor_num);\n",
    "\n",
    "ALTER TABLE store ADD CONSTRAINT FK_zip_code \n",
    "    FOREIGN KEY (zip_code) REFERENCES store_location(zip_code);\n",
    "'''"
   ]
  },
  {
   "cell_type": "code",
   "execution_count": 12,
   "id": "92f1678a-7774-414f-af12-50fb0dbec63e",
   "metadata": {},
   "outputs": [],
   "source": [
    "queries = [sale_new, details_new, store_new, store_location_new, description_new, vendor_new]\n",
    "file_names = ['sale_new', 'details_new', 'store_new', 'store_location_new', 'description_new', 'vendor_new']"
   ]
  },
  {
   "cell_type": "code",
   "execution_count": 13,
   "id": "994ef9c6-5b35-4e72-a869-d1ab60f62a8a",
   "metadata": {},
   "outputs": [],
   "source": [
    "conn = psycopg2.connect(user=conn_data['USERNAME'], password=conn_data['PASSWORD'], dbname=conn_data['DB_NAME'], host=conn_data['HOST'], port=conn_data['PORT'])\n",
    "\n",
    "for query, name in zip(queries, file_names):\n",
    "    with open(f'{name}.csv') as f0:\n",
    "        cur = conn.cursor()\n",
    "        cur.execute(f'DROP TABLE IF EXISTS {name}')\n",
    "        cur.execute(query)\n",
    "        cur.copy_from(f0, f'{name}', sep=',')\n",
    "    conn.commit()"
   ]
  }
 ],
 "metadata": {
  "kernelspec": {
   "display_name": "Python 3 (ipykernel)",
   "language": "python",
   "name": "python3"
  },
  "language_info": {
   "codemirror_mode": {
    "name": "ipython",
    "version": 3
   },
   "file_extension": ".py",
   "mimetype": "text/x-python",
   "name": "python",
   "nbconvert_exporter": "python",
   "pygments_lexer": "ipython3",
   "version": "3.9.12"
  }
 },
 "nbformat": 4,
 "nbformat_minor": 5
}
